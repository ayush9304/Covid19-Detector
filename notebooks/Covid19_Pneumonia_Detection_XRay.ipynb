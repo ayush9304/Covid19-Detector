{
  "nbformat": 4,
  "nbformat_minor": 0,
  "metadata": {
    "colab": {
      "name": "Covid19/Pneumonia Detection XRay.ipynb",
      "provenance": [],
      "collapsed_sections": []
    },
    "kernelspec": {
      "name": "python3",
      "display_name": "Python 3"
    },
    "language_info": {
      "name": "python"
    },
    "accelerator": "GPU"
  },
  "cells": [
    {
      "cell_type": "code",
      "metadata": {
        "id": "lXx-S5UBeooo"
      },
      "source": [
        "import os\n",
        "import shutil\n",
        "import numpy as np\n",
        "import pandas as pd\n",
        "import matplotlib.pyplot as plt\n",
        "from sklearn.model_selection import train_test_split\n",
        "from IPython.display import clear_output\n",
        "from tqdm import tqdm\n",
        "import random\n",
        "import tensorflow as tf\n",
        "from tensorflow.keras.preprocessing.image import ImageDataGenerator\n",
        "from tensorflow.keras.layers import SeparableConv2D, BatchNormalization, MaxPool2D, Dense, Dropout, Flatten, Input, Conv2D"
      ],
      "execution_count": null,
      "outputs": []
    },
    {
      "cell_type": "code",
      "metadata": {
        "id": "h1h9vunIfH3P"
      },
      "source": [
        "# detect and init the TPU\n",
        "# tpu = tf.distribute.cluster_resolver.TPUClusterResolver()\n",
        "# print('Device:', tpu.master())\n",
        "# tf.config.experimental_connect_to_cluster(tpu)\n",
        "# tf.tpu.experimental.initialize_tpu_system(tpu)\n",
        "# strategy = tf.distribute.experimental.TPUStrategy(tpu)\n",
        "# clear_output()"
      ],
      "execution_count": null,
      "outputs": []
    },
    {
      "cell_type": "code",
      "metadata": {
        "colab": {
          "base_uri": "https://localhost:8080/"
        },
        "id": "eyYOGgNahF5m",
        "outputId": "b09942d2-dd92-46c4-9b78-fa87eef0af01"
      },
      "source": [
        "from google.colab import drive\n",
        "drive.mount('/content/gdrive')"
      ],
      "execution_count": null,
      "outputs": [
        {
          "output_type": "stream",
          "name": "stdout",
          "text": [
            "Mounted at /content/gdrive\n"
          ]
        }
      ]
    },
    {
      "cell_type": "code",
      "metadata": {
        "id": "88xgiHM6hGyv"
      },
      "source": [
        "!unzip gdrive/MyDrive/Datasets/COVID-19_X-ray-Dataset.zip\n",
        "clear_output()"
      ],
      "execution_count": null,
      "outputs": []
    },
    {
      "cell_type": "code",
      "metadata": {
        "id": "ce0WpyMLH8xm"
      },
      "source": [
        "def split(data_path):\n",
        "  os.mkdir(\"dataset\")\n",
        "  os.mkdir(\"dataset/train\")\n",
        "  os.mkdir(\"dataset/test\")\n",
        "  os.mkdir(\"dataset/val\")\n",
        "  for i in ['COVID','Normal','Viral Pneumonia']:\n",
        "    os.mkdir(f\"dataset/train/{i}\")\n",
        "    os.mkdir(f\"dataset/test/{i}\")\n",
        "    os.mkdir(f\"dataset/val/{i}\")\n",
        "    cat_path = os.path.join(data_path,i)\n",
        "    filenames = os.listdir(cat_path)\n",
        "    random.seed(2021)\n",
        "    random.shuffle(filenames)\n",
        "    train, test = train_test_split(filenames, test_size=0.2)\n",
        "    test, val = train_test_split(test, test_size=0.5)\n",
        "    for file in tqdm(train):\n",
        "      shutil.copy(f\"{cat_path}/{file}\", f\"dataset/train/{i}/{file}\")\n",
        "    for file in tqdm(test):\n",
        "      shutil.copy(f\"{cat_path}/{file}\", f\"dataset/test/{i}/{file}\")\n",
        "    for file in tqdm(val):\n",
        "      shutil.copy(f\"{cat_path}/{file}\", f\"dataset/val/{i}/{file}\")\n"
      ],
      "execution_count": null,
      "outputs": []
    },
    {
      "cell_type": "code",
      "metadata": {
        "colab": {
          "base_uri": "https://localhost:8080/"
        },
        "id": "2z1iGNPev2c_",
        "outputId": "8d4896c1-063c-4449-e9b2-ffd5658a9d1b"
      },
      "source": [
        "split(\"/content/COVID-19_X-ray-Dataset\")"
      ],
      "execution_count": null,
      "outputs": [
        {
          "output_type": "stream",
          "name": "stderr",
          "text": [
            "100%|██████████| 3435/3435 [00:05<00:00, 620.38it/s]\n",
            "100%|██████████| 429/429 [00:01<00:00, 311.88it/s]\n",
            "100%|██████████| 430/430 [00:02<00:00, 154.41it/s]\n",
            "100%|██████████| 4569/4569 [00:02<00:00, 1865.55it/s]\n",
            "100%|██████████| 571/571 [00:00<00:00, 4784.13it/s]\n",
            "100%|██████████| 572/572 [00:00<00:00, 954.17it/s]\n",
            "100%|██████████| 4176/4176 [00:08<00:00, 465.46it/s] \n",
            "100%|██████████| 522/522 [00:00<00:00, 3337.18it/s]\n",
            "100%|██████████| 522/522 [00:00<00:00, 829.88it/s]\n"
          ]
        }
      ]
    },
    {
      "cell_type": "code",
      "metadata": {
        "colab": {
          "base_uri": "https://localhost:8080/"
        },
        "id": "Eh5-bJpiKAoo",
        "outputId": "d45f8bea-b542-42c9-ef75-bc8555134c88"
      },
      "source": [
        "import glob\n",
        "print(\"Train:\",len(glob.glob(\"dataset/train/*/*\")))\n",
        "print(\"Test:\",len(glob.glob(\"dataset/test/*/*\")))\n",
        "print(\"Val:\",len(glob.glob(\"dataset/val/*/*\")))"
      ],
      "execution_count": null,
      "outputs": [
        {
          "output_type": "stream",
          "name": "stdout",
          "text": [
            "Train: 12180\n",
            "Test: 1522\n",
            "Val: 1524\n"
          ]
        }
      ]
    },
    {
      "cell_type": "code",
      "metadata": {
        "colab": {
          "base_uri": "https://localhost:8080/"
        },
        "id": "1Mn2G2Xfv2Z1",
        "outputId": "6113a5ff-922d-478e-f766-b31cfb3c1679"
      },
      "source": [
        "IMAGE_SIZE = 180\n",
        "BATCH_SIZE = 64 #* strategy.num_replicas_in_sync\n",
        "generator = ImageDataGenerator(rescale=1./255)\n",
        "\n",
        "X_train = generator.flow_from_directory(\n",
        "    \"dataset/train\",\n",
        "    target_size = (180,180),\n",
        "    batch_size = BATCH_SIZE\n",
        ")\n",
        "\n",
        "X_test = generator.flow_from_directory(\n",
        "    \"dataset/test\",\n",
        "    target_size = (IMAGE_SIZE, IMAGE_SIZE),\n",
        "    batch_size = BATCH_SIZE\n",
        ")\n",
        "\n",
        "X_val = generator.flow_from_directory(\n",
        "    \"dataset/val\",\n",
        "    target_size = (IMAGE_SIZE, IMAGE_SIZE),\n",
        "    batch_size = BATCH_SIZE\n",
        ")"
      ],
      "execution_count": null,
      "outputs": [
        {
          "output_type": "stream",
          "name": "stdout",
          "text": [
            "Found 12180 images belonging to 3 classes.\n",
            "Found 1522 images belonging to 3 classes.\n",
            "Found 1524 images belonging to 3 classes.\n"
          ]
        }
      ]
    },
    {
      "cell_type": "code",
      "metadata": {
        "colab": {
          "base_uri": "https://localhost:8080/"
        },
        "id": "wKS1FeMVE_FJ",
        "outputId": "6e786661-e4f4-4291-fd30-8ba7fff0868c"
      },
      "source": [
        "X_test.class_indices"
      ],
      "execution_count": null,
      "outputs": [
        {
          "output_type": "execute_result",
          "data": {
            "text/plain": [
              "{'COVID': 0, 'Normal': 1, 'Viral Pneumonia': 2}"
            ]
          },
          "metadata": {},
          "execution_count": 9
        }
      ]
    },
    {
      "cell_type": "code",
      "metadata": {
        "colab": {
          "base_uri": "https://localhost:8080/"
        },
        "id": "dJirB7uoFHr2",
        "outputId": "e5e0beef-e12e-4b9c-d4dc-85bdbfafb5be"
      },
      "source": [
        "X_test.class_indices"
      ],
      "execution_count": null,
      "outputs": [
        {
          "output_type": "execute_result",
          "data": {
            "text/plain": [
              "{'COVID': 0, 'Normal': 1, 'Viral Pneumonia': 2}"
            ]
          },
          "metadata": {},
          "execution_count": 10
        }
      ]
    },
    {
      "cell_type": "code",
      "metadata": {
        "id": "EeQQtyQ1BAr4"
      },
      "source": [
        "def conv_block(filters):\n",
        "  block = tf.keras.Sequential([\n",
        "                               SeparableConv2D(filters, (3,3), activation='relu', padding='same'),\n",
        "                               SeparableConv2D(filters, (3,3), activation='relu', padding='same'),\n",
        "                               BatchNormalization(),\n",
        "                               MaxPool2D()\n",
        "  ])\n",
        "  return block"
      ],
      "execution_count": null,
      "outputs": []
    },
    {
      "cell_type": "code",
      "metadata": {
        "id": "AG69flUJBAeU"
      },
      "source": [
        "def dense_block(units, dropout):\n",
        "  block = tf.keras.Sequential([\n",
        "                               Dense(units, activation='relu'),\n",
        "                               BatchNormalization(),\n",
        "                               Dropout(dropout)\n",
        "  ])\n",
        "  return block"
      ],
      "execution_count": null,
      "outputs": []
    },
    {
      "cell_type": "code",
      "metadata": {
        "id": "yKegHaqdCt1o"
      },
      "source": [
        "def build_model():\n",
        "  model = tf.keras.Sequential([\n",
        "                               Input((IMAGE_SIZE, IMAGE_SIZE, 3)),\n",
        "                               Conv2D(16, (3,3), activation='relu', padding='same'),\n",
        "                               Conv2D(16, (3,3), activation='relu', padding='same'),\n",
        "                               MaxPool2D(),\n",
        "\n",
        "                               conv_block(32),\n",
        "                               conv_block(64),\n",
        "                               conv_block(128),\n",
        "                               Dropout(0.2),\n",
        "                               conv_block(256),\n",
        "                               Dropout(0.2),\n",
        "                               \n",
        "                               Flatten(),\n",
        "                               dense_block(512, 0.5),\n",
        "                               dense_block(256, 0.3),\n",
        "                               dense_block(128, 0.2),\n",
        "                               Dense(3, activation='softmax')\n",
        "  ])\n",
        "  return model"
      ],
      "execution_count": null,
      "outputs": []
    },
    {
      "cell_type": "code",
      "metadata": {
        "id": "82njSkHiMrxe"
      },
      "source": [
        "checkpoint_cb = tf.keras.callbacks.ModelCheckpoint(\"checkpoint_model.h5\", save_best_only=True, verbose=1)\n",
        "\n",
        "early_stopping_cb = tf.keras.callbacks.EarlyStopping(patience=10, restore_best_weights=True, verbose=1)"
      ],
      "execution_count": null,
      "outputs": []
    },
    {
      "cell_type": "code",
      "metadata": {
        "id": "SPMYGTfNMvVV"
      },
      "source": [
        "def exponential_decay(lr0, s):\n",
        "    def exponential_decay_fn(epoch):\n",
        "        return lr0 * 0.1 **(epoch / s)\n",
        "    return exponential_decay_fn\n",
        "\n",
        "exponential_decay_fn = exponential_decay(0.01, 20)\n",
        "\n",
        "lr_scheduler = tf.keras.callbacks.LearningRateScheduler(exponential_decay_fn, verbose=1)"
      ],
      "execution_count": null,
      "outputs": []
    },
    {
      "cell_type": "code",
      "metadata": {
        "id": "MNNfAmFwFmOm"
      },
      "source": [
        "#with strategy.scope():\n",
        "METRICS = [\n",
        "          'accuracy',\n",
        "          tf.keras.metrics.Precision(name='precision'),\n",
        "          tf.keras.metrics.Recall(name='recall')\n",
        "]\n",
        "\n",
        "CALLBACKS = [\n",
        "            checkpoint_cb,\n",
        "            early_stopping_cb,\n",
        "            lr_scheduler\n",
        "]"
      ],
      "execution_count": null,
      "outputs": []
    },
    {
      "cell_type": "code",
      "metadata": {
        "colab": {
          "base_uri": "https://localhost:8080/"
        },
        "id": "QSx3S7yxFTqP",
        "outputId": "8fc715f2-2e3a-473b-9b33-dd7e81ddebd0"
      },
      "source": [
        "#with strategy.scope():\n",
        "model = build_model()\n",
        "model.compile(optimizer='adam', loss='categorical_crossentropy', metrics=METRICS)\n",
        "model.summary()"
      ],
      "execution_count": null,
      "outputs": [
        {
          "output_type": "stream",
          "name": "stdout",
          "text": [
            "Model: \"sequential_15\"\n",
            "_________________________________________________________________\n",
            "Layer (type)                 Output Shape              Param #   \n",
            "=================================================================\n",
            "conv2d_2 (Conv2D)            (None, 180, 180, 16)      448       \n",
            "_________________________________________________________________\n",
            "conv2d_3 (Conv2D)            (None, 180, 180, 16)      2320      \n",
            "_________________________________________________________________\n",
            "max_pooling2d_5 (MaxPooling2 (None, 90, 90, 16)        0         \n",
            "_________________________________________________________________\n",
            "sequential_8 (Sequential)    (None, 45, 45, 32)        2160      \n",
            "_________________________________________________________________\n",
            "sequential_9 (Sequential)    (None, 22, 22, 64)        7392      \n",
            "_________________________________________________________________\n",
            "sequential_10 (Sequential)   (None, 11, 11, 128)       27072     \n",
            "_________________________________________________________________\n",
            "dropout_5 (Dropout)          (None, 11, 11, 128)       0         \n",
            "_________________________________________________________________\n",
            "sequential_11 (Sequential)   (None, 5, 5, 256)         103296    \n",
            "_________________________________________________________________\n",
            "dropout_6 (Dropout)          (None, 5, 5, 256)         0         \n",
            "_________________________________________________________________\n",
            "flatten_1 (Flatten)          (None, 6400)              0         \n",
            "_________________________________________________________________\n",
            "sequential_12 (Sequential)   (None, 512)               3279360   \n",
            "_________________________________________________________________\n",
            "sequential_13 (Sequential)   (None, 256)               132352    \n",
            "_________________________________________________________________\n",
            "sequential_14 (Sequential)   (None, 128)               33408     \n",
            "_________________________________________________________________\n",
            "dense_7 (Dense)              (None, 3)                 387       \n",
            "=================================================================\n",
            "Total params: 3,588,195\n",
            "Trainable params: 3,585,443\n",
            "Non-trainable params: 2,752\n",
            "_________________________________________________________________\n"
          ]
        }
      ]
    },
    {
      "cell_type": "code",
      "metadata": {
        "colab": {
          "base_uri": "https://localhost:8080/"
        },
        "id": "fg08WVDpv2K7",
        "outputId": "35bc8882-4861-4a36-c22a-3bda23aad981"
      },
      "source": [
        "with tf.device(\"/device:GPU:0\"):\n",
        "  history = model.fit_generator(\n",
        "      X_train,\n",
        "      validation_data=X_val,\n",
        "      epochs=25,\n",
        "      callbacks=CALLBACKS\n",
        "  )"
      ],
      "execution_count": null,
      "outputs": [
        {
          "metadata": {
            "tags": null
          },
          "name": "stderr",
          "output_type": "stream",
          "text": [
            "/usr/local/lib/python3.7/dist-packages/keras/engine/training.py:1972: UserWarning: `Model.fit_generator` is deprecated and will be removed in a future version. Please use `Model.fit`, which supports generators.\n",
            "  warnings.warn('`Model.fit_generator` is deprecated and '\n"
          ]
        },
        {
          "output_type": "stream",
          "name": "stdout",
          "text": [
            "Epoch 1/25\n",
            "\n",
            "Epoch 00001: LearningRateScheduler setting learning rate to 0.01.\n",
            "191/191 [==============================] - 98s 497ms/step - loss: 0.5825 - accuracy: 0.7512 - precision: 0.7753 - recall: 0.7423 - val_loss: 2.1018 - val_accuracy: 0.4829 - val_precision: 0.4797 - val_recall: 0.4718\n",
            "\n",
            "Epoch 00001: val_loss did not improve from 1.12836\n",
            "Epoch 2/25\n",
            "\n",
            "Epoch 00002: LearningRateScheduler setting learning rate to 0.008912509381337455.\n",
            "191/191 [==============================] - 94s 489ms/step - loss: 0.3774 - accuracy: 0.8442 - precision: 0.8486 - recall: 0.8374 - val_loss: 26.8722 - val_accuracy: 0.2828 - val_precision: 0.2828 - val_recall: 0.2828\n",
            "\n",
            "Epoch 00002: val_loss did not improve from 1.12836\n",
            "Epoch 3/25\n",
            "\n",
            "Epoch 00003: LearningRateScheduler setting learning rate to 0.007943282347242816.\n",
            "191/191 [==============================] - 94s 489ms/step - loss: 0.2973 - accuracy: 0.8784 - precision: 0.8821 - recall: 0.8750 - val_loss: 0.3548 - val_accuracy: 0.8524 - val_precision: 0.8547 - val_recall: 0.8491\n",
            "\n",
            "Epoch 00003: val_loss improved from 1.12836 to 0.35475, saving model to checkpoint_model.h5\n",
            "Epoch 4/25\n",
            "\n",
            "Epoch 00004: LearningRateScheduler setting learning rate to 0.0070794578438413795.\n",
            "191/191 [==============================] - 94s 493ms/step - loss: 0.2549 - accuracy: 0.9005 - precision: 0.9029 - recall: 0.8979 - val_loss: 0.5720 - val_accuracy: 0.8412 - val_precision: 0.8418 - val_recall: 0.8412\n",
            "\n",
            "Epoch 00004: val_loss did not improve from 0.35475\n",
            "Epoch 5/25\n",
            "\n",
            "Epoch 00005: LearningRateScheduler setting learning rate to 0.006309573444801933.\n",
            "191/191 [==============================] - 93s 488ms/step - loss: 0.2181 - accuracy: 0.9186 - precision: 0.9208 - recall: 0.9156 - val_loss: 0.3922 - val_accuracy: 0.8556 - val_precision: 0.8579 - val_recall: 0.8556\n",
            "\n",
            "Epoch 00005: val_loss did not improve from 0.35475\n",
            "Epoch 6/25\n",
            "\n",
            "Epoch 00006: LearningRateScheduler setting learning rate to 0.005623413251903491.\n",
            "191/191 [==============================] - 92s 481ms/step - loss: 0.1801 - accuracy: 0.9337 - precision: 0.9361 - recall: 0.9322 - val_loss: 0.2501 - val_accuracy: 0.9035 - val_precision: 0.9053 - val_recall: 0.9029\n",
            "\n",
            "Epoch 00006: val_loss improved from 0.35475 to 0.25015, saving model to checkpoint_model.h5\n",
            "Epoch 7/25\n",
            "\n",
            "Epoch 00007: LearningRateScheduler setting learning rate to 0.005011872336272724.\n",
            "191/191 [==============================] - 92s 481ms/step - loss: 0.1866 - accuracy: 0.9314 - precision: 0.9331 - recall: 0.9299 - val_loss: 0.2868 - val_accuracy: 0.9068 - val_precision: 0.9080 - val_recall: 0.9062\n",
            "\n",
            "Epoch 00007: val_loss did not improve from 0.25015\n",
            "Epoch 8/25\n",
            "\n",
            "Epoch 00008: LearningRateScheduler setting learning rate to 0.004466835921509631.\n",
            "191/191 [==============================] - 93s 485ms/step - loss: 0.1403 - accuracy: 0.9493 - precision: 0.9506 - recall: 0.9479 - val_loss: 0.1695 - val_accuracy: 0.9331 - val_precision: 0.9343 - val_recall: 0.9324\n",
            "\n",
            "Epoch 00008: val_loss improved from 0.25015 to 0.16954, saving model to checkpoint_model.h5\n",
            "Epoch 9/25\n",
            "\n",
            "Epoch 00009: LearningRateScheduler setting learning rate to 0.0039810717055349725.\n",
            "191/191 [==============================] - 94s 489ms/step - loss: 0.1316 - accuracy: 0.9519 - precision: 0.9526 - recall: 0.9514 - val_loss: 0.2394 - val_accuracy: 0.9121 - val_precision: 0.9126 - val_recall: 0.9114\n",
            "\n",
            "Epoch 00009: val_loss did not improve from 0.16954\n",
            "Epoch 10/25\n",
            "\n",
            "Epoch 00010: LearningRateScheduler setting learning rate to 0.003548133892335755.\n",
            "191/191 [==============================] - 94s 493ms/step - loss: 0.1287 - accuracy: 0.9548 - precision: 0.9559 - recall: 0.9539 - val_loss: 0.2248 - val_accuracy: 0.9239 - val_precision: 0.9256 - val_recall: 0.9226\n",
            "\n",
            "Epoch 00010: val_loss did not improve from 0.16954\n",
            "Epoch 11/25\n",
            "\n",
            "Epoch 00011: LearningRateScheduler setting learning rate to 0.0031622776601683794.\n",
            "191/191 [==============================] - 94s 492ms/step - loss: 0.1102 - accuracy: 0.9608 - precision: 0.9613 - recall: 0.9597 - val_loss: 0.4873 - val_accuracy: 0.8497 - val_precision: 0.8506 - val_recall: 0.8478\n",
            "\n",
            "Epoch 00011: val_loss did not improve from 0.16954\n",
            "Epoch 12/25\n",
            "\n",
            "Epoch 00012: LearningRateScheduler setting learning rate to 0.002818382931264454.\n",
            "191/191 [==============================] - 94s 492ms/step - loss: 0.0861 - accuracy: 0.9697 - precision: 0.9699 - recall: 0.9687 - val_loss: 0.1034 - val_accuracy: 0.9685 - val_precision: 0.9691 - val_recall: 0.9678\n",
            "\n",
            "Epoch 00012: val_loss improved from 0.16954 to 0.10335, saving model to checkpoint_model.h5\n",
            "Epoch 13/25\n",
            "\n",
            "Epoch 00013: LearningRateScheduler setting learning rate to 0.0025118864315095803.\n",
            "191/191 [==============================] - 94s 489ms/step - loss: 0.0785 - accuracy: 0.9724 - precision: 0.9729 - recall: 0.9721 - val_loss: 0.3957 - val_accuracy: 0.8648 - val_precision: 0.8664 - val_recall: 0.8635\n",
            "\n",
            "Epoch 00013: val_loss did not improve from 0.10335\n",
            "Epoch 14/25\n",
            "\n",
            "Epoch 00014: LearningRateScheduler setting learning rate to 0.0022387211385683395.\n",
            "191/191 [==============================] - 95s 495ms/step - loss: 0.0812 - accuracy: 0.9721 - precision: 0.9727 - recall: 0.9717 - val_loss: 0.5573 - val_accuracy: 0.8346 - val_precision: 0.8350 - val_recall: 0.8333\n",
            "\n",
            "Epoch 00014: val_loss did not improve from 0.10335\n",
            "Epoch 15/25\n",
            "\n",
            "Epoch 00015: LearningRateScheduler setting learning rate to 0.0019952623149688802.\n",
            "191/191 [==============================] - 94s 494ms/step - loss: 0.0672 - accuracy: 0.9751 - precision: 0.9756 - recall: 0.9750 - val_loss: 0.1188 - val_accuracy: 0.9587 - val_precision: 0.9593 - val_recall: 0.9580\n",
            "\n",
            "Epoch 00015: val_loss did not improve from 0.10335\n",
            "Epoch 16/25\n",
            "\n",
            "Epoch 00016: LearningRateScheduler setting learning rate to 0.001778279410038923.\n",
            "191/191 [==============================] - 94s 491ms/step - loss: 0.0493 - accuracy: 0.9831 - precision: 0.9832 - recall: 0.9830 - val_loss: 1.1880 - val_accuracy: 0.7480 - val_precision: 0.7490 - val_recall: 0.7461\n",
            "\n",
            "Epoch 00016: val_loss did not improve from 0.10335\n",
            "Epoch 17/25\n",
            "\n",
            "Epoch 00017: LearningRateScheduler setting learning rate to 0.0015848931924611134.\n",
            "191/191 [==============================] - 93s 485ms/step - loss: 0.0573 - accuracy: 0.9799 - precision: 0.9801 - recall: 0.9797 - val_loss: 0.0828 - val_accuracy: 0.9738 - val_precision: 0.9738 - val_recall: 0.9738\n",
            "\n",
            "Epoch 00017: val_loss improved from 0.10335 to 0.08280, saving model to checkpoint_model.h5\n",
            "Epoch 18/25\n",
            "\n",
            "Epoch 00018: LearningRateScheduler setting learning rate to 0.0014125375446227546.\n",
            "191/191 [==============================] - 93s 488ms/step - loss: 0.0409 - accuracy: 0.9851 - precision: 0.9853 - recall: 0.9849 - val_loss: 0.0904 - val_accuracy: 0.9698 - val_precision: 0.9705 - val_recall: 0.9698\n",
            "\n",
            "Epoch 00018: val_loss did not improve from 0.08280\n",
            "Epoch 19/25\n",
            "\n",
            "Epoch 00019: LearningRateScheduler setting learning rate to 0.0012589254117941673.\n",
            "191/191 [==============================] - 94s 492ms/step - loss: 0.0377 - accuracy: 0.9874 - precision: 0.9875 - recall: 0.9874 - val_loss: 0.0702 - val_accuracy: 0.9751 - val_precision: 0.9757 - val_recall: 0.9751\n",
            "\n",
            "Epoch 00019: val_loss improved from 0.08280 to 0.07018, saving model to checkpoint_model.h5\n",
            "Epoch 20/25\n",
            "\n",
            "Epoch 00020: LearningRateScheduler setting learning rate to 0.0011220184543019637.\n",
            "191/191 [==============================] - 95s 494ms/step - loss: 0.0325 - accuracy: 0.9887 - precision: 0.9887 - recall: 0.9887 - val_loss: 0.0897 - val_accuracy: 0.9738 - val_precision: 0.9737 - val_recall: 0.9731\n",
            "\n",
            "Epoch 00020: val_loss did not improve from 0.07018\n",
            "Epoch 21/25\n",
            "\n",
            "Epoch 00021: LearningRateScheduler setting learning rate to 0.001.\n",
            "191/191 [==============================] - 95s 495ms/step - loss: 0.0262 - accuracy: 0.9914 - precision: 0.9916 - recall: 0.9911 - val_loss: 0.0828 - val_accuracy: 0.9764 - val_precision: 0.9764 - val_recall: 0.9764\n",
            "\n",
            "Epoch 00021: val_loss did not improve from 0.07018\n",
            "Epoch 22/25\n",
            "\n",
            "Epoch 00022: LearningRateScheduler setting learning rate to 0.0008912509381337455.\n",
            "191/191 [==============================] - 95s 497ms/step - loss: 0.0222 - accuracy: 0.9926 - precision: 0.9927 - recall: 0.9926 - val_loss: 0.0776 - val_accuracy: 0.9790 - val_precision: 0.9790 - val_recall: 0.9790\n",
            "\n",
            "Epoch 00022: val_loss did not improve from 0.07018\n",
            "Epoch 23/25\n",
            "\n",
            "Epoch 00023: LearningRateScheduler setting learning rate to 0.0007943282347242814.\n",
            "191/191 [==============================] - 96s 501ms/step - loss: 0.0214 - accuracy: 0.9931 - precision: 0.9932 - recall: 0.9931 - val_loss: 0.1788 - val_accuracy: 0.9547 - val_precision: 0.9554 - val_recall: 0.9547\n",
            "\n",
            "Epoch 00023: val_loss did not improve from 0.07018\n",
            "Epoch 24/25\n",
            "\n",
            "Epoch 00024: LearningRateScheduler setting learning rate to 0.0007079457843841381.\n",
            "191/191 [==============================] - 95s 499ms/step - loss: 0.0178 - accuracy: 0.9932 - precision: 0.9932 - recall: 0.9932 - val_loss: 0.1296 - val_accuracy: 0.9652 - val_precision: 0.9658 - val_recall: 0.9639\n",
            "\n",
            "Epoch 00024: val_loss did not improve from 0.07018\n",
            "Epoch 25/25\n",
            "\n",
            "Epoch 00025: LearningRateScheduler setting learning rate to 0.0006309573444801933.\n",
            "191/191 [==============================] - 95s 494ms/step - loss: 0.0154 - accuracy: 0.9952 - precision: 0.9953 - recall: 0.9952 - val_loss: 0.0810 - val_accuracy: 0.9790 - val_precision: 0.9790 - val_recall: 0.9790\n",
            "\n",
            "Epoch 00025: val_loss did not improve from 0.07018\n"
          ]
        }
      ]
    },
    {
      "cell_type": "code",
      "metadata": {
        "id": "Gs5ogn5qv2HL",
        "colab": {
          "base_uri": "https://localhost:8080/",
          "height": 510
        },
        "outputId": "48c61dfc-53e3-414c-d6ed-f14f51213712"
      },
      "source": [
        "plt.figure(figsize=(20,10))\n",
        "\n",
        "for i, met in enumerate(['precision', 'recall', 'accuracy', 'loss']):\n",
        "  plt.subplot(2,2,i+1)\n",
        "  plt.plot(history.history[met])\n",
        "  plt.plot(history.history[\"val_\"+met])\n",
        "  plt.title('Model '+met.capitalize())\n",
        "  plt.xlabel('epochs')\n",
        "  plt.ylabel(met)\n",
        "  plt.legend(['train', 'val'])"
      ],
      "execution_count": null,
      "outputs": [
        {
          "output_type": "display_data",
          "data": {
            "image/png": "[encoded data removed]",
            "text/plain": [
              "<Figure size 1440x720 with 4 Axes>"
            ]
          },
          "metadata": {
            "needs_background": "light"
          }
        }
      ]
    },
    {
      "cell_type": "code",
      "metadata": {
        "id": "JCQBIMrCv2Aj",
        "colab": {
          "base_uri": "https://localhost:8080/"
        },
        "outputId": "ffcf710c-dd2f-4773-8e52-197ba4a8dc50"
      },
      "source": [
        "model.evaluate(X_test)"
      ],
      "execution_count": null,
      "outputs": [
        {
          "output_type": "stream",
          "name": "stdout",
          "text": [
            "24/24 [==============================] - 9s 361ms/step - loss: 0.0913 - accuracy: 0.9731 - precision: 0.9731 - recall: 0.9731\n"
          ]
        },
        {
          "output_type": "execute_result",
          "data": {
            "text/plain": [
              "[0.0913393497467041, 0.973061740398407, 0.973061740398407, 0.973061740398407]"
            ]
          },
          "metadata": {},
          "execution_count": 26
        }
      ]
    },
    {
      "cell_type": "code",
      "metadata": {
        "id": "hrgloVm2v19f",
        "colab": {
          "base_uri": "https://localhost:8080/"
        },
        "outputId": "921dc72b-c94d-4ec4-9e58-729d31d4a131"
      },
      "source": [
        "tt = tf.keras.models.load_model(\"checkpoint_model.h5\")\n",
        "tt.evaluate(X_test)"
      ],
      "execution_count": null,
      "outputs": [
        {
          "output_type": "stream",
          "name": "stdout",
          "text": [
            "24/24 [==============================] - 10s 385ms/step - loss: 0.0804 - accuracy: 0.9731 - precision: 0.9730 - recall: 0.9717\n"
          ]
        },
        {
          "output_type": "execute_result",
          "data": {
            "text/plain": [
              "[0.08041353523731232,\n",
              " 0.973061740398407,\n",
              " 0.9730263352394104,\n",
              " 0.9717476963996887]"
            ]
          },
          "metadata": {},
          "execution_count": 25
        }
      ]
    },
    {
      "cell_type": "code",
      "metadata": {
        "id": "96lIy2FP6DaI"
      },
      "source": [
        "!cp checkpoint_model.h5 gdrive/MyDrive/Covid-Pneumonia_Detection_Model/covid_pneumonia_detection_model.h5"
      ],
      "execution_count": null,
      "outputs": []
    },
    {
      "cell_type": "code",
      "metadata": {
        "id": "P4Sz2F5Nn_BT"
      },
      "source": [
        ""
      ],
      "execution_count": null,
      "outputs": []
    },
    {
      "cell_type": "code",
      "metadata": {
        "id": "34SXnqfCn-1J"
      },
      "source": [
        "import cv2\n",
        "import numpy as np"
      ],
      "execution_count": null,
      "outputs": []
    },
    {
      "cell_type": "code",
      "metadata": {
        "id": "uab15NGdoNwS"
      },
      "source": [
        "img1 = cv2.resize(cv2.imread(\"c1.jpg\"), (180,180))/255.0\n",
        "img2 = cv2.resize(cv2.imread(\"c2.jpg\"), (180,180))/255.0\n",
        "img3 = cv2.resize(cv2.imread(\"n1.jpg\"), (180,180))/255.0\n",
        "img4 = cv2.resize(cv2.imread(\"p1.jpg\"), (180,180))/255.0\n",
        "\n",
        "x = np.array([img1,img2,img3,img4])"
      ],
      "execution_count": null,
      "outputs": []
    },
    {
      "cell_type": "code",
      "metadata": {
        "id": "up_cUdWc8Cg4",
        "colab": {
          "base_uri": "https://localhost:8080/"
        },
        "outputId": "1ceb66e9-c7c0-4f30-e22b-d4447171c68a"
      },
      "source": [
        "model3 = tf.keras.models.load_model(\"drive/MyDrive/Covid-Pneumonia_Detection_Model/covid_pneumonia_detection_model.h5\")\n",
        "model3.predict(x)"
      ],
      "execution_count": null,
      "outputs": [
        {
          "output_type": "execute_result",
          "data": {
            "text/plain": [
              "array([[9.9955028e-01, 3.9690844e-04, 5.2803764e-05],\n",
              "       [9.9996936e-01, 2.7761471e-05, 2.8562476e-06],\n",
              "       [9.9433988e-01, 5.4468261e-03, 2.1330340e-04],\n",
              "       [9.9937743e-01, 6.1128475e-04, 1.1328808e-05]], dtype=float32)"
            ]
          },
          "metadata": {},
          "execution_count": 18
        }
      ]
    },
    {
      "cell_type": "code",
      "metadata": {
        "colab": {
          "base_uri": "https://localhost:8080/"
        },
        "id": "ndaQUAzsohR4",
        "outputId": "7bcd060f-c4b7-4df6-ed4c-705e23e3dbfb"
      },
      "source": [
        "np.argmax(model3.predict(x),axis=-1)"
      ],
      "execution_count": null,
      "outputs": [
        {
          "output_type": "execute_result",
          "data": {
            "text/plain": [
              "array([0, 0, 0, 0])"
            ]
          },
          "metadata": {},
          "execution_count": 17
        }
      ]
    },
    {
      "cell_type": "code",
      "metadata": {
        "id": "4fKmDqnUo6Az"
      },
      "source": [
        "imgn = cv2.resize(cv2.imread(\"p1.jpg\"), (180,180))/255.0\n",
        "x1 = np.expand_dims(imgn, axis=0)"
      ],
      "execution_count": null,
      "outputs": []
    },
    {
      "cell_type": "code",
      "metadata": {
        "colab": {
          "base_uri": "https://localhost:8080/"
        },
        "id": "nsesXhTcrShs",
        "outputId": "4cf32a42-819a-4b3c-85da-6baf2190ae99"
      },
      "source": [
        "x1.shape"
      ],
      "execution_count": null,
      "outputs": [
        {
          "output_type": "execute_result",
          "data": {
            "text/plain": [
              "(1, 180, 180, 3)"
            ]
          },
          "metadata": {},
          "execution_count": 21
        }
      ]
    },
    {
      "cell_type": "code",
      "metadata": {
        "colab": {
          "base_uri": "https://localhost:8080/"
        },
        "id": "3OxR3mOSrIlS",
        "outputId": "c0ec644d-bd5f-4439-a4bb-59a9db7e28ce"
      },
      "source": [
        "model3.predict(x1)"
      ],
      "execution_count": null,
      "outputs": [
        {
          "output_type": "execute_result",
          "data": {
            "text/plain": [
              "array([[9.9937743e-01, 6.1128451e-04, 1.1328786e-05]], dtype=float32)"
            ]
          },
          "metadata": {},
          "execution_count": 22
        }
      ]
    },
    {
      "cell_type": "code",
      "metadata": {
        "colab": {
          "base_uri": "https://localhost:8080/"
        },
        "id": "mZnOd-LIrVeP",
        "outputId": "72e15dd6-53ee-4d15-e98a-5f97e34e5bbb"
      },
      "source": [
        "np.argmax(model3.predict(x1),axis=-1)"
      ],
      "execution_count": null,
      "outputs": [
        {
          "output_type": "execute_result",
          "data": {
            "text/plain": [
              "array([0])"
            ]
          },
          "metadata": {},
          "execution_count": 26
        }
      ]
    },
    {
      "cell_type": "code",
      "metadata": {
        "id": "gyfSr1iBrX4a"
      },
      "source": [
        ""
      ],
      "execution_count": null,
      "outputs": []
    }
  ]
}