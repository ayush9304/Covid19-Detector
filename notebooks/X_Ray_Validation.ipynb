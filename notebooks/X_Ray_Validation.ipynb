{
  "nbformat": 4,
  "nbformat_minor": 0,
  "metadata": {
    "colab": {
      "name": "X-Ray Validation v2.ipynb",
      "provenance": [],
      "collapsed_sections": []
    },
    "kernelspec": {
      "name": "python3",
      "display_name": "Python 3"
    },
    "language_info": {
      "name": "python"
    },
    "accelerator": "GPU"
  },
  "cells": [
    {
      "cell_type": "code",
      "metadata": {
        "id": "ZaXJPI__9Aux"
      },
      "source": [
        "import os\n",
        "import tensorflow as tf\n",
        "from tensorflow.keras.layers import Conv2D, MaxPooling2D, Flatten, Dense, Dropout, BatchNormalization, Input, GlobalAveragePooling2D\n",
        "from tensorflow.keras import Sequential\n",
        "from tensorflow.keras.preprocessing.image import ImageDataGenerator\n",
        "from IPython.display import clear_output\n",
        "import matplotlib.pyplot as plt"
      ],
      "execution_count": 1,
      "outputs": []
    },
    {
      "cell_type": "code",
      "metadata": {
        "colab": {
          "base_uri": "https://localhost:8080/"
        },
        "id": "BUpQK2r59gEr",
        "outputId": "77bfadc3-9166-4234-caa6-e065ce559200"
      },
      "source": [
        "from google.colab import drive\n",
        "drive.mount('drive')"
      ],
      "execution_count": 2,
      "outputs": [
        {
          "output_type": "stream",
          "name": "stdout",
          "text": [
            "Mounted at drive\n"
          ]
        }
      ]
    },
    {
      "cell_type": "code",
      "metadata": {
        "id": "OZ6fZp0SCDST"
      },
      "source": [
        "!unzip drive/MyDrive/Datasets/X-Ray_Validation_Dataset.zip\n",
        "clear_output()"
      ],
      "execution_count": 3,
      "outputs": []
    },
    {
      "cell_type": "code",
      "metadata": {
        "id": "_UAe7N3JDmCB"
      },
      "source": [
        "INPUT_SHAPE = 160\n",
        "BATCH_SIZE = 64"
      ],
      "execution_count": 4,
      "outputs": []
    },
    {
      "cell_type": "code",
      "metadata": {
        "colab": {
          "base_uri": "https://localhost:8080/"
        },
        "id": "3m6b6dDBCDGV",
        "outputId": "7398e6f4-a804-4764-f179-8106085bb560"
      },
      "source": [
        "generator = ImageDataGenerator(rescale=1./255)\n",
        "\n",
        "train_data = generator.flow_from_directory(\n",
        "    \"DATASET/train\",\n",
        "    target_size=(INPUT_SHAPE, INPUT_SHAPE),\n",
        "    batch_size=BATCH_SIZE,\n",
        "    class_mode='binary',\n",
        "    shuffle=True)\n",
        "\n",
        "validation_data = generator.flow_from_directory(\n",
        "    \"DATASET/val\",\n",
        "    target_size=(INPUT_SHAPE, INPUT_SHAPE),\n",
        "    batch_size=BATCH_SIZE,\n",
        "    class_mode='binary',\n",
        "    shuffle=True)\n",
        "\n",
        "test_data = generator.flow_from_directory(\n",
        "    \"DATASET/test\",\n",
        "    target_size=(INPUT_SHAPE, INPUT_SHAPE),\n",
        "    batch_size=BATCH_SIZE,\n",
        "    class_mode='binary',\n",
        "    shuffle=True)"
      ],
      "execution_count": 5,
      "outputs": [
        {
          "output_type": "stream",
          "name": "stdout",
          "text": [
            "Found 6500 images belonging to 2 classes.\n",
            "Found 1750 images belonging to 2 classes.\n",
            "Found 1750 images belonging to 2 classes.\n"
          ]
        }
      ]
    },
    {
      "cell_type": "code",
      "metadata": {
        "colab": {
          "base_uri": "https://localhost:8080/"
        },
        "id": "tbAXb_GfI6nX",
        "outputId": "2333a6f2-ac0b-4cfd-b914-82f0a765ee80"
      },
      "source": [
        "train_data.class_indices"
      ],
      "execution_count": 6,
      "outputs": [
        {
          "output_type": "execute_result",
          "data": {
            "text/plain": [
              "{'non xray': 0, 'xray': 1}"
            ]
          },
          "metadata": {},
          "execution_count": 6
        }
      ]
    },
    {
      "cell_type": "code",
      "metadata": {
        "colab": {
          "base_uri": "https://localhost:8080/"
        },
        "id": "-E-Nw34l_ICN",
        "outputId": "f4ad5976-cd4f-4137-9e5d-c284d2c31410"
      },
      "source": [
        "model = Sequential([\n",
        "                    Input(shape=(INPUT_SHAPE, INPUT_SHAPE, 3)),\n",
        "                    Conv2D(32, (3,3), activation='relu'),\n",
        "                    MaxPooling2D(pool_size=(2,2)),\n",
        "                    Conv2D(64, (3,3), activation='relu'),\n",
        "                    MaxPooling2D(pool_size=(2,2)),\n",
        "                    Conv2D(128, (3,3), activation='relu'),\n",
        "                    MaxPooling2D(pool_size=(2,2)),\n",
        "                    Conv2D(256, (3,3), activation='relu'),\n",
        "                    MaxPooling2D(pool_size=(2,2)),\n",
        "                    Conv2D(512, (3,3), activation='relu'),\n",
        "                    MaxPooling2D(pool_size=(2,2)),\n",
        "                    Flatten(),\n",
        "                    Dense(512, activation='relu'),\n",
        "                    Dropout(0.4),\n",
        "                    Dense(256, activation='relu'),\n",
        "                    Dropout(0.4),\n",
        "                    Dense(1, activation='sigmoid')\n",
        "\n",
        "])\n",
        "model.compile(optimizer='adam', loss='binary_crossentropy', metrics=['accuracy'])\n",
        "model.summary()"
      ],
      "execution_count": 7,
      "outputs": [
        {
          "output_type": "stream",
          "name": "stdout",
          "text": [
            "Model: \"sequential\"\n",
            "_________________________________________________________________\n",
            " Layer (type)                Output Shape              Param #   \n",
            "=================================================================\n",
            " conv2d (Conv2D)             (None, 158, 158, 32)      896       \n",
            "                                                                 \n",
            " max_pooling2d (MaxPooling2D  (None, 79, 79, 32)       0         \n",
            " )                                                               \n",
            "                                                                 \n",
            " conv2d_1 (Conv2D)           (None, 77, 77, 64)        18496     \n",
            "                                                                 \n",
            " max_pooling2d_1 (MaxPooling  (None, 38, 38, 64)       0         \n",
            " 2D)                                                             \n",
            "                                                                 \n",
            " conv2d_2 (Conv2D)           (None, 36, 36, 128)       73856     \n",
            "                                                                 \n",
            " max_pooling2d_2 (MaxPooling  (None, 18, 18, 128)      0         \n",
            " 2D)                                                             \n",
            "                                                                 \n",
            " conv2d_3 (Conv2D)           (None, 16, 16, 256)       295168    \n",
            "                                                                 \n",
            " max_pooling2d_3 (MaxPooling  (None, 8, 8, 256)        0         \n",
            " 2D)                                                             \n",
            "                                                                 \n",
            " conv2d_4 (Conv2D)           (None, 6, 6, 512)         1180160   \n",
            "                                                                 \n",
            " max_pooling2d_4 (MaxPooling  (None, 3, 3, 512)        0         \n",
            " 2D)                                                             \n",
            "                                                                 \n",
            " flatten (Flatten)           (None, 4608)              0         \n",
            "                                                                 \n",
            " dense (Dense)               (None, 512)               2359808   \n",
            "                                                                 \n",
            " dropout (Dropout)           (None, 512)               0         \n",
            "                                                                 \n",
            " dense_1 (Dense)             (None, 256)               131328    \n",
            "                                                                 \n",
            " dropout_1 (Dropout)         (None, 256)               0         \n",
            "                                                                 \n",
            " dense_2 (Dense)             (None, 1)                 257       \n",
            "                                                                 \n",
            "=================================================================\n",
            "Total params: 4,059,969\n",
            "Trainable params: 4,059,969\n",
            "Non-trainable params: 0\n",
            "_________________________________________________________________\n"
          ]
        }
      ]
    },
    {
      "cell_type": "code",
      "metadata": {
        "colab": {
          "base_uri": "https://localhost:8080/"
        },
        "id": "TmJ_8WcBBB8Q",
        "outputId": "b3c51b67-8197-410c-a2be-2160b5dbc3bb"
      },
      "source": [
        "with tf.device(\"/device:GPU:0\"):\n",
        "  history = model.fit_generator(\n",
        "      train_data,\n",
        "      steps_per_epoch = train_data.samples // BATCH_SIZE,\n",
        "      validation_data = validation_data, \n",
        "      validation_steps = validation_data.samples // BATCH_SIZE,\n",
        "      epochs = 2\n",
        "      )"
      ],
      "execution_count": 8,
      "outputs": [
        {
          "output_type": "stream",
          "name": "stderr",
          "text": [
            "/usr/local/lib/python3.7/dist-packages/ipykernel_launcher.py:7: UserWarning: `Model.fit_generator` is deprecated and will be removed in a future version. Please use `Model.fit`, which supports generators.\n",
            "  import sys\n"
          ]
        },
        {
          "output_type": "stream",
          "name": "stdout",
          "text": [
            "Epoch 1/2\n",
            "101/101 [==============================] - 81s 697ms/step - loss: 0.1874 - accuracy: 0.9417 - val_loss: 0.0214 - val_accuracy: 0.9936\n",
            "Epoch 2/2\n",
            "101/101 [==============================] - 69s 681ms/step - loss: 0.0203 - accuracy: 0.9953 - val_loss: 0.0493 - val_accuracy: 0.9896\n"
          ]
        }
      ]
    },
    {
      "cell_type": "code",
      "metadata": {
        "colab": {
          "base_uri": "https://localhost:8080/",
          "height": 613
        },
        "id": "RtWJmp3tIZUX",
        "outputId": "8926703e-ecb2-4452-c334-9416a82c03f5"
      },
      "source": [
        "plt.figure(figsize=(20,10))\n",
        "\n",
        "for i, met in enumerate(['accuracy', 'loss']):\n",
        "  plt.subplot(1,2,i+1)\n",
        "  plt.plot(history.history[met])\n",
        "  plt.plot(history.history[\"val_\"+met])\n",
        "  plt.title('Model '+met.capitalize())\n",
        "  plt.xlabel('epochs')\n",
        "  plt.ylabel(met)\n",
        "  plt.legend(['train', 'val'])"
      ],
      "execution_count": 9,
      "outputs": [
        {
          "output_type": "display_data",
          "data": {
            "image/png": "[encoded data removed]",
            "text/plain": [
              "<Figure size 1440x720 with 2 Axes>"
            ]
          },
          "metadata": {
            "needs_background": "light"
          }
        }
      ]
    },
    {
      "cell_type": "code",
      "metadata": {
        "colab": {
          "base_uri": "https://localhost:8080/"
        },
        "id": "bi_52gEcNGFz",
        "outputId": "e2045070-1a9a-4f12-e018-30f98b5a5d3f"
      },
      "source": [
        "model.evaluate(test_data)"
      ],
      "execution_count": 10,
      "outputs": [
        {
          "output_type": "stream",
          "name": "stdout",
          "text": [
            "28/28 [==============================] - 16s 569ms/step - loss: 0.0292 - accuracy: 0.9914\n"
          ]
        },
        {
          "output_type": "execute_result",
          "data": {
            "text/plain": [
              "[0.029181765392422676, 0.991428554058075]"
            ]
          },
          "metadata": {},
          "execution_count": 10
        }
      ]
    },
    {
      "cell_type": "code",
      "source": [
        "model.save(\"validator.h5\")"
      ],
      "metadata": {
        "id": "CEzqDFXfTxvG"
      },
      "execution_count": 11,
      "outputs": []
    },
    {
      "cell_type": "code",
      "metadata": {
        "id": "bnQeVmDdOAU2"
      },
      "source": [
        ""
      ],
      "execution_count": null,
      "outputs": []
    },
    {
      "cell_type": "code",
      "metadata": {
        "id": "mwbkfTzdV2Ri"
      },
      "source": [
        "import cv2\n",
        "import numpy as np"
      ],
      "execution_count": 12,
      "outputs": []
    },
    {
      "cell_type": "code",
      "metadata": {
        "id": "9XKPBHi3V4ir"
      },
      "source": [
        "img1 = cv2.resize(cv2.imread(\"wf.jpeg\"),(160,160))/255.\n",
        "img2 = cv2.resize(cv2.imread(\"bb.jpg\"),(160,160))/255.\n",
        "img3 = cv2.resize(cv2.imread(\"1.jpg\"),(160,160))/255.\n",
        "img4 = cv2.resize(cv2.imread(\"2.png\"),(160,160))/255.\n",
        "img5 = cv2.resize(cv2.imread(\"3.jpg\"),(160,160))/255."
      ],
      "execution_count": 16,
      "outputs": []
    },
    {
      "cell_type": "code",
      "metadata": {
        "colab": {
          "base_uri": "https://localhost:8080/"
        },
        "id": "5FItACZMWToy",
        "outputId": "840c3ed9-6f1d-4bf7-bd2c-0c66af8ea5e3"
      },
      "source": [
        "x=np.array([img1,img2,img3,img4,img5])\n",
        "x.shape"
      ],
      "execution_count": 17,
      "outputs": [
        {
          "output_type": "execute_result",
          "data": {
            "text/plain": [
              "(5, 160, 160, 3)"
            ]
          },
          "metadata": {},
          "execution_count": 17
        }
      ]
    },
    {
      "cell_type": "code",
      "metadata": {
        "colab": {
          "base_uri": "https://localhost:8080/"
        },
        "id": "e81sXEWiW0EH",
        "outputId": "94fecf12-3a9a-483c-e3eb-eac80a51dba0"
      },
      "source": [
        "pred = model.predict(x)\n",
        "y_classes = ((pred > 0.5)+0).ravel()\n",
        "print(pred)\n",
        "y_classes"
      ],
      "execution_count": 18,
      "outputs": [
        {
          "output_type": "stream",
          "name": "stdout",
          "text": [
            "[[0.17034765]\n",
            " [0.23272619]\n",
            " [0.9988024 ]\n",
            " [0.99990916]\n",
            " [0.9999356 ]]\n"
          ]
        },
        {
          "output_type": "execute_result",
          "data": {
            "text/plain": [
              "array([0, 0, 1, 1, 1])"
            ]
          },
          "metadata": {},
          "execution_count": 18
        }
      ]
    },
    {
      "cell_type": "code",
      "metadata": {
        "id": "lpifNXYXavY_"
      },
      "source": [
        "!cp validator.h5 drive/MyDrive/Covid-Pneumonia_Detection_Model/xray_validator_v2.h5"
      ],
      "execution_count": 19,
      "outputs": []
    },
    {
      "cell_type": "code",
      "source": [
        ""
      ],
      "metadata": {
        "id": "CtmxKrp0XmJr"
      },
      "execution_count": null,
      "outputs": []
    }
  ]
}